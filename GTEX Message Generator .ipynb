{
 "cells": [
  {
   "cell_type": "code",
   "execution_count": 25,
   "metadata": {},
   "outputs": [],
   "source": [
    "import ssl\n",
    "import urllib.request \n",
    "from bs4 import BeautifulSoup\n",
    "import datetime\n",
    "import re "
   ]
  },
  {
   "cell_type": "code",
   "execution_count": 26,
   "metadata": {},
   "outputs": [],
   "source": [
    "#news container\n",
    "news = []"
   ]
  },
  {
   "cell_type": "code",
   "execution_count": 27,
   "metadata": {},
   "outputs": [],
   "source": [
    "#create ssl context\n",
    "context = ssl._create_unverified_context()"
   ]
  },
  {
   "cell_type": "code",
   "execution_count": 28,
   "metadata": {},
   "outputs": [
    {
     "name": "stdout",
     "output_type": "stream",
     "text": [
      "Daily News, 1 17th, 2019\n"
     ]
    }
   ],
   "source": [
    "now = datetime.datetime.now()\n",
    "header = \"Daily News,\" + \" \"+ str(now.month) +\" \" + str(now.day) + \"th\" + \", \" + str(now.year)\n",
    "print(header)"
   ]
  },
  {
   "cell_type": "code",
   "execution_count": 29,
   "metadata": {},
   "outputs": [],
   "source": [
    "url = \"https://www.coindesk.com/\""
   ]
  },
  {
   "cell_type": "code",
   "execution_count": 30,
   "metadata": {},
   "outputs": [],
   "source": [
    "with urllib.request.urlopen(url,context = context) as response:\n",
    "    html = response.read()\n",
    "    soup = BeautifulSoup(html, 'html.parser')\n",
    "    for i in soup.find_all(\"a\",\"feature\"):\n",
    "        title = i.get(\"title\")\n",
    "        link = i.get(\"href\")\n",
    "        news.append((title,link))"
   ]
  },
  {
   "cell_type": "code",
   "execution_count": 31,
   "metadata": {},
   "outputs": [],
   "source": [
    "#url = \"https://www.ccn.com/\" anti-web-crawler\n",
    "url = \"https://cointelegraph.com/\""
   ]
  },
  {
   "cell_type": "code",
   "execution_count": 32,
   "metadata": {},
   "outputs": [],
   "source": [
    "with urllib.request.urlopen(url,context = context) as response:\n",
    "    html = response.read()\n",
    "    soup = BeautifulSoup(html, 'html.parser')\n",
    "    data = (soup.find(\"div\",\"main-page\"))\n",
    "    for i in data.div.get_text().split(\"               \")[1:5]:\n",
    "        title = i.split(\"       Latest\")[0].lower()\n",
    "        link = \"-\".join(re.sub(r'\\W+', ' ', title).split())\n",
    "        link = \"https://cointelegraph.com/news/\" +url\n",
    "        news.append((title,link)) "
   ]
  },
  {
   "cell_type": "code",
   "execution_count": 33,
   "metadata": {},
   "outputs": [],
   "source": [
    "url = \"https://www.forbes.com/search/?q=bitcoin\""
   ]
  },
  {
   "cell_type": "code",
   "execution_count": 34,
   "metadata": {},
   "outputs": [],
   "source": [
    "with urllib.request.urlopen(url,context = context) as response:\n",
    "    html = response.read()\n",
    "    soup = BeautifulSoup(html, 'html.parser')\n",
    "    data = soup.get_text().split(\",\")\n",
    "    for i in range(0,len(data)-1):\n",
    "        if \"type\" in data[i] and \"blog\" in data[i]:\n",
    "            try:\n",
    "                title_index = data[i-1].find(\":\")\n",
    "                title = data[i-1][title_index+1:]\n",
    "                if(\"500\" in title):\n",
    "                    continue\n",
    "                url_index = data[i+1].find(\":\")\n",
    "                link = re.sub('[\"]',\"\",data[i+1][url_index+1:])\n",
    "                news.append((title,link))\n",
    "                #print(title)\n",
    "                #print(url)\n",
    "            except:\n",
    "                pass\n",
    "       "
   ]
  },
  {
   "cell_type": "code",
   "execution_count": 35,
   "metadata": {
    "scrolled": true
   },
   "outputs": [
    {
     "name": "stdout",
     "output_type": "stream",
     "text": [
      "Daily News, 1 17th, 2019\n",
      "\n",
      "One Year Later, What’s Holding Back SegWit Adoption on Bitcoin?\n",
      "https://www.coindesk.com/one-year-later-whats-holding-back-segwit-adoption-on-bitcoin\n",
      "\n",
      "Barclays and Clearmatics Call on Coders to Help Blockchains Talk to Each Other\n",
      "https://www.coindesk.com/barclays-and-clearmatics-call-on-coders-to-help-blockchains-talk-to-each-other\n",
      "\n",
      "Grin Mining Launch Draws Interest From Deep-Pocketed Investors\n",
      "https://www.coindesk.com/grin-launch-crypto-interest-from-deep-pocketed-investors\n",
      "\n",
      " mit, stanford researchers to fund new ‘globally scalable’ cryptocurrency, ‘unit-e’\n",
      "https://cointelegraph.com/news/https://cointelegraph.com/\n",
      "\n",
      "huobi resumes trading in japan as fsa-licensed exchange\n",
      "https://cointelegraph.com/news/https://cointelegraph.com/\n",
      "\n",
      "crypto payments service bitpay reports it saw over $1 billion in transactions in 2018\n",
      "https://cointelegraph.com/news/https://cointelegraph.com/\n",
      "\n",
      "crypto markets stabilize with scant price action across the board\n",
      "https://cointelegraph.com/news/https://cointelegraph.com/\n",
      "\n",
      "\"Minor Bitcoin Rivals Are Skyrocketing As The Bitcoin Price Stagnates--Here's Why\"\n",
      "https://www.forbes.com/sites/billybambrough/2019/01/17/minor-bitcoin-rivals-are-skyrocketing-the-bitcoin-price-stagnates-heres-why/\n",
      "\n",
      "\"What Bitcoin Needs Now\"\n",
      "https://www.forbes.com/sites/forbescoachescouncil/2019/01/08/what-bitcoin-needs-now/\n",
      "\n",
      "\"Many Of Bitcoin's Competitors Are Laughably Unsecure\"\n",
      "https://www.forbes.com/sites/ktorpey/2019/01/14/many-of-bitcoins-competitors-are-laughably-insecure/\n",
      "\n",
      "\"Blow To Bitcoin As International Bank Makes Stark Warning\"\n",
      "https://www.forbes.com/sites/billybambrough/2019/01/14/blow-to-bitcoin-as-international-bank-warns-on-trivial-take-up/\n",
      "\n",
      "\"Bitcoin Maximalists' Impossible Dream\"\n",
      "https://www.forbes.com/sites/francescoppola/2018/12/30/bitcoin-maximalists-impossible-dream/\n",
      "\n",
      "\"New U.K. Bitcoin Exchange Overwhelmed By 'Crazy' Demand Amid Brexit Uncertainty\"\n",
      "https://www.forbes.com/sites/billybambrough/2019/01/17/new-u-k-bitcoin-exchange-overwhelmed-by-crazy-demand-amid-brexit-uncertainty/\n",
      "\n",
      "\"Today Marks The 10th Anniversary Of The First Bitcoin Transaction\"\n",
      "https://www.forbes.com/sites/rebeccacampbell1/2019/01/12/today-marks-the-10th-anniversary-of-the-first-bitcoin-transaction/\n",
      "\n",
      " Volantis and the Missing Bitcoins\"\n",
      "https://www.forbes.com/sites/andreatinianow/2019/01/11/the-case-of-symphony-volantis-and-the-missing-bitcoins/\n",
      "\n"
     ]
    }
   ],
   "source": [
    "print(header + \"\\n\")\n",
    "for title,url in news:\n",
    "    print(title)\n",
    "    print(url+\"\\n\")"
   ]
  },
  {
   "cell_type": "code",
   "execution_count": 36,
   "metadata": {},
   "outputs": [
    {
     "name": "stdout",
     "output_type": "stream",
     "text": [
      "<h1>Daily News, 1 17th, 2019</h1><div><p>One Year Later, What’s Holding Back SegWit Adoption on Bitcoin? <br /> https://www.coindesk.com/one-year-later-whats-holding-back-segwit-adoption-on-bitcoin </p><p>Barclays and Clearmatics Call on Coders to Help Blockchains Talk to Each Other <br /> https://www.coindesk.com/barclays-and-clearmatics-call-on-coders-to-help-blockchains-talk-to-each-other </p><p>Grin Mining Launch Draws Interest From Deep-Pocketed Investors <br /> https://www.coindesk.com/grin-launch-crypto-interest-from-deep-pocketed-investors </p><p> mit, stanford researchers to fund new ‘globally scalable’ cryptocurrency, ‘unit-e’ <br /> https://cointelegraph.com/news/https://cointelegraph.com/ </p><p>huobi resumes trading in japan as fsa-licensed exchange <br /> https://cointelegraph.com/news/https://cointelegraph.com/ </p><p>crypto payments service bitpay reports it saw over $1 billion in transactions in 2018 <br /> https://cointelegraph.com/news/https://cointelegraph.com/ </p><p>crypto markets stabilize with scant price action across the board <br /> https://cointelegraph.com/news/https://cointelegraph.com/ </p><p>\"Minor Bitcoin Rivals Are Skyrocketing As The Bitcoin Price Stagnates--Here's Why\" <br /> https://www.forbes.com/sites/billybambrough/2019/01/17/minor-bitcoin-rivals-are-skyrocketing-the-bitcoin-price-stagnates-heres-why/ </p><p>\"What Bitcoin Needs Now\" <br /> https://www.forbes.com/sites/forbescoachescouncil/2019/01/08/what-bitcoin-needs-now/ </p><p>\"Many Of Bitcoin's Competitors Are Laughably Unsecure\" <br /> https://www.forbes.com/sites/ktorpey/2019/01/14/many-of-bitcoins-competitors-are-laughably-insecure/ </p><p>\"Blow To Bitcoin As International Bank Makes Stark Warning\" <br /> https://www.forbes.com/sites/billybambrough/2019/01/14/blow-to-bitcoin-as-international-bank-warns-on-trivial-take-up/ </p><p>\"Bitcoin Maximalists' Impossible Dream\" <br /> https://www.forbes.com/sites/francescoppola/2018/12/30/bitcoin-maximalists-impossible-dream/ </p><p>\"New U.K. Bitcoin Exchange Overwhelmed By 'Crazy' Demand Amid Brexit Uncertainty\" <br /> https://www.forbes.com/sites/billybambrough/2019/01/17/new-u-k-bitcoin-exchange-overwhelmed-by-crazy-demand-amid-brexit-uncertainty/ </p><p>\"Today Marks The 10th Anniversary Of The First Bitcoin Transaction\" <br /> https://www.forbes.com/sites/rebeccacampbell1/2019/01/12/today-marks-the-10th-anniversary-of-the-first-bitcoin-transaction/ </p><p> Volantis and the Missing Bitcoins\" <br /> https://www.forbes.com/sites/andreatinianow/2019/01/11/the-case-of-symphony-volantis-and-the-missing-bitcoins/ </p></div>\n"
     ]
    }
   ],
   "source": [
    "tag = \"\"\n",
    "for title,link in news:\n",
    "    tag += \"<p>%s <br /> %s </p>\"%(title,link)\n",
    "htmlData = \"<h1>%s</h1><div>%s</div>\"%(header,tag)\n",
    "print(htmlData)"
   ]
  },
  {
   "cell_type": "code",
   "execution_count": null,
   "metadata": {},
   "outputs": [],
   "source": []
  }
 ],
 "metadata": {
  "kernelspec": {
   "display_name": "Python 3",
   "language": "python",
   "name": "python3"
  },
  "language_info": {
   "codemirror_mode": {
    "name": "ipython",
    "version": 3
   },
   "file_extension": ".py",
   "mimetype": "text/x-python",
   "name": "python",
   "nbconvert_exporter": "python",
   "pygments_lexer": "ipython3",
   "version": "3.7.0"
  }
 },
 "nbformat": 4,
 "nbformat_minor": 2
}
